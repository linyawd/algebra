{
 "cells": [
  {
   "cell_type": "code",
   "execution_count": 2,
   "id": "1c3ce46f-1296-49ed-a4bd-ced2702e1d6f",
   "metadata": {},
   "outputs": [],
   "source": [
    "from itertools import combinations\n",
    "\n",
    "def find_irreducible_subgroups(grp):\n",
    "    irreducible_subgroups = []\n",
    "    elements_list = list(grp)\n",
    "\n",
    "    for size in range(2, 4):\n",
    "        for elem_subset in combinations(elements_list, size):\n",
    "            subgrp = grp.subgroup(elem_subset)\n",
    "            if subgrp == grp:\n",
    "                is_minimal = True\n",
    "                for irr_subgrp in irreducible_subgroups:\n",
    "                    if set(irr_subgrp.gens()).issubset(elem_subset):\n",
    "                        is_minimal = False\n",
    "                        break\n",
    "                \n",
    "                if is_minimal:\n",
    "                    irreducible_subgroups.append(subgrp)\n",
    "    \n",
    "    return irreducible_subgroups\n",
    "\n",
    "S = SymmetricGroup(4)\n",
    "irreducible_subgroups = find_irreducible_subgroups(S)\n",
    "\n",
    "with open(\"Irreducible_group_S4\", 'w') as file:\n",
    "    for subgroup in irreducible_subgroups:\n",
    "        file.write(f'{subgroup};\\n')\n"
   ]
  },
  {
   "cell_type": "code",
   "execution_count": 3,
   "id": "c316a870-98fe-4a2f-97c7-1d656dd302a8",
   "metadata": {},
   "outputs": [],
   "source": [
    "def export_subgroups_to_file(group_list, file_prefix):\n",
    "    with open(f\"{file_prefix}_subgroups.txt\", 'w') as f:\n",
    "        for subgroup in group_list:\n",
    "            f.write(f'{subgroup};\\n')\n",
    "\n",
    "\n",
    "group_dict = {\n",
    "    \"S4\": SymmetricGroup(4),\n",
    "    \"A4\": AlternatingGroup(4),\n",
    "    \"S5\": SymmetricGroup(5),\n",
    "    \"A5\": AlternatingGroup(5),\n",
    "}\n",
    "\n",
    "with open(\"AllSubgroups.txt\", 'w') as f:\n",
    "    for group_name in group_dict:\n",
    "        f.write(f\"Subgroups of {group_name}:\\n\")\n",
    "        for subgroup in group_dict[group_name].subgroups():\n",
    "            f.write(f'{subgroup};\\n')\n",
    "        f.write('\\n')\n"
   ]
  },
  {
   "cell_type": "code",
   "execution_count": 5,
   "id": "2a03dcea-973b-4899-b3ba-6f9437554678",
   "metadata": {},
   "outputs": [
    {
     "name": "stdin",
     "output_type": "stream",
     "text": [
      "Enter n:  3\n",
      "Enter permutation 1:  (1,2)\n",
      "Enter permutation 2:  (1,3)\n"
     ]
    },
    {
     "name": "stdout",
     "output_type": "stream",
     "text": [
      "Sign of permutation 1: -1\n",
      "Sign of permutation 2: -1\n",
      "Order of the generated group: 6\n",
      "The generated group is equal to S3\n",
      "The generated group is not equal to A3\n"
     ]
    }
   ],
   "source": [
    "n = int(input(\"Enter n: \"))\n",
    "SymGroup = SymmetricGroup(n)\n",
    "AltGroup = AlternatingGroup(n)\n",
    "perm1 = SymGroup(input(\"Enter permutation 1: \"))\n",
    "perm2 = SymGroup(input(\"Enter permutation 2: \"))\n",
    "generated_subgroup = SymGroup.subgroup([perm1, perm2])\n",
    "\n",
    "print(f\"Sign of permutation 1: {perm1.sign()}\")\n",
    "print(f\"Sign of permutation 2: {perm2.sign()}\")\n",
    "print(f\"Order of the generated group: {generated_subgroup.order()}\")\n",
    "\n",
    "if generated_subgroup == SymGroup:\n",
    "    print(f\"The generated group is equal to S{n}\")\n",
    "else:\n",
    "    print(f\"The generated group is not equal to S{n}\")\n",
    "\n",
    "if generated_subgroup == AltGroup:\n",
    "    print(f\"The generated group is equal to A{n}\")\n",
    "else:\n",
    "    print(f\"The generated group is not equal to A{n}\")\n"
   ]
  },
  {
   "cell_type": "code",
   "execution_count": null,
   "id": "21eeeffa-3dd1-4f96-bab3-f3b468065245",
   "metadata": {},
   "outputs": [],
   "source": []
  }
 ],
 "metadata": {
  "kernelspec": {
   "display_name": "SageMath 10.4",
   "language": "sage",
   "name": "sagemath-10.4"
  },
  "language_info": {
   "codemirror_mode": {
    "name": "ipython",
    "version": 3
   },
   "file_extension": ".py",
   "mimetype": "text/x-python",
   "name": "python",
   "nbconvert_exporter": "python",
   "pygments_lexer": "ipython3",
   "version": "3.12.4"
  }
 },
 "nbformat": 4,
 "nbformat_minor": 5
}
