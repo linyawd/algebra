{
 "cells": [
  {
   "cell_type": "code",
   "execution_count": null,
   "id": "7c80ad84-1dc6-4430-a741-e2536ea91cea",
   "metadata": {},
   "outputs": [],
   "source": [
    "S100 = SymmetricGroup(100)\n",
    "A100 = AlternatingGroup(100)\n",
    "\n",
    "def count_elements_of_each_order(G, filename):\n",
    "    orders = {}\n",
    "    for g in G:\n",
    "        order = g.order()\n",
    "        if order in orders:\n",
    "            orders[order] += 1\n",
    "        else:\n",
    "            orders[order] = 1\n",
    "    \n",
    "    with open(filename, 'w') as f:\n",
    "        for order in sorted(orders):\n",
    "            f.write(f\"Порядок: {order}, Кількість елементів: {orders[order]}\\n\")\n",
    "\n",
    "\n",
    "count_elements_of_each_order(S100, '/mnt/data/S100_orders.txt')\n",
    "count_elements_of_each_order(A100, '/mnt/data/A100_orders.txt')\n"
   ]
  },
  {
   "cell_type": "code",
   "execution_count": null,
   "id": "0b07697f-49ae-4305-b6fb-343a2e07b7a0",
   "metadata": {},
   "outputs": [],
   "source": []
  },
  {
   "cell_type": "code",
   "execution_count": null,
   "id": "8c683ba9-79dd-4a71-9404-14813c23d381",
   "metadata": {},
   "outputs": [],
   "source": []
  }
 ],
 "metadata": {
  "kernelspec": {
   "display_name": "SageMath 10.4",
   "language": "sage",
   "name": "sagemath-10.4"
  },
  "language_info": {
   "codemirror_mode": {
    "name": "ipython",
    "version": 3
   },
   "file_extension": ".py",
   "mimetype": "text/x-python",
   "name": "python",
   "nbconvert_exporter": "python",
   "pygments_lexer": "ipython3",
   "version": "3.12.4"
  }
 },
 "nbformat": 4,
 "nbformat_minor": 5
}
