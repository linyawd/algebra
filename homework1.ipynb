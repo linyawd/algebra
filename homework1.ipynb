{
 "cells": [
  {
   "cell_type": "code",
   "execution_count": 1,
   "id": "539732e0-0870-4232-accd-a43ea1467329",
   "metadata": {},
   "outputs": [
    {
     "name": "stdout",
     "output_type": "stream",
     "text": [
      "2\n"
     ]
    }
   ],
   "source": [
    "remainder = 156 % 7\n",
    "print(remainder)"
   ]
  },
  {
   "cell_type": "code",
   "execution_count": 2,
   "id": "891cb556-8e55-4d7c-82bd-ae8b7fce5c54",
   "metadata": {},
   "outputs": [
    {
     "name": "stdout",
     "output_type": "stream",
     "text": [
      "22\n"
     ]
    }
   ],
   "source": [
    "integer_division = 156 // 7\n",
    "print(integer_division)"
   ]
  },
  {
   "cell_type": "code",
   "execution_count": 3,
   "id": "74a9c478-43ee-4aeb-bcf3-d74f23cb90d5",
   "metadata": {},
   "outputs": [
    {
     "name": "stdout",
     "output_type": "stream",
     "text": [
      "{2: 3, 11: 1, 23: 1}\n"
     ]
    }
   ],
   "source": [
    "from sympy import factorint\n",
    "number = 2024\n",
    "factors = factorint(number)\n",
    "print(factors)"
   ]
  },
  {
   "cell_type": "code",
   "execution_count": 4,
   "id": "3bced337-53e2-4984-88fc-c1d0b771c49a",
   "metadata": {},
   "outputs": [
    {
     "data": {
      "text/plain": [
       "125"
      ]
     },
     "execution_count": 4,
     "metadata": {},
     "output_type": "execute_result"
    }
   ],
   "source": [
    "power_result = 5^3\n",
    "power_result"
   ]
  },
  {
   "cell_type": "code",
   "execution_count": 5,
   "id": "5d461f5c-f733-4502-9bbe-eb2927a552ed",
   "metadata": {},
   "outputs": [
    {
     "data": {
      "text/plain": [
       "7"
      ]
     },
     "execution_count": 5,
     "metadata": {},
     "output_type": "execute_result"
    }
   ],
   "source": [
    "sqrt_result = sqrt(49)\n",
    "sqrt_result"
   ]
  },
  {
   "cell_type": "code",
   "execution_count": 6,
   "id": "9c42fb1f-2cc4-49f0-9271-b450e51eeffa",
   "metadata": {},
   "outputs": [
    {
     "data": {
      "text/plain": [
       "1"
      ]
     },
     "execution_count": 6,
     "metadata": {},
     "output_type": "execute_result"
    }
   ],
   "source": [
    "cos_result = cos(0)\n",
    "cos_result"
   ]
  },
  {
   "cell_type": "code",
   "execution_count": 7,
   "id": "d5e029c4-bcb6-4abb-bf90-3da8d9016518",
   "metadata": {},
   "outputs": [
    {
     "data": {
      "text/plain": [
       "0"
      ]
     },
     "execution_count": 7,
     "metadata": {},
     "output_type": "execute_result"
    }
   ],
   "source": [
    "sin_result = sin(pi)\n",
    "sin_result"
   ]
  },
  {
   "cell_type": "code",
   "execution_count": 8,
   "id": "ad866725-32dd-4a81-a57c-b87a8930b648",
   "metadata": {},
   "outputs": [
    {
     "data": {
      "text/plain": [
       "e^2"
      ]
     },
     "execution_count": 8,
     "metadata": {},
     "output_type": "execute_result"
    }
   ],
   "source": [
    "exp_result = exp(2)\n",
    "exp_result\n"
   ]
  },
  {
   "cell_type": "code",
   "execution_count": 9,
   "id": "94495b5c-de6d-4faf-8bca-fbeaabefdca4",
   "metadata": {},
   "outputs": [
    {
     "data": {
      "text/plain": [
       "1"
      ]
     },
     "execution_count": 9,
     "metadata": {},
     "output_type": "execute_result"
    }
   ],
   "source": [
    "tan_result = tan(pi/4)\n",
    "tan_result"
   ]
  },
  {
   "cell_type": "code",
   "execution_count": 10,
   "id": "d7c86605-20f0-4143-9a2b-d8a2ea3942e7",
   "metadata": {},
   "outputs": [
    {
     "data": {
      "text/plain": [
       "1/2*pi"
      ]
     },
     "execution_count": 10,
     "metadata": {},
     "output_type": "execute_result"
    }
   ],
   "source": [
    "arcsin_result = arcsin(1)\n",
    "arcsin_result"
   ]
  },
  {
   "cell_type": "code",
   "execution_count": 11,
   "id": "7e7f05f6-43fc-43c5-b3ef-b2033545d2b9",
   "metadata": {},
   "outputs": [
    {
     "data": {
      "text/plain": [
       "(25, 150)"
      ]
     },
     "execution_count": 11,
     "metadata": {},
     "output_type": "execute_result"
    }
   ],
   "source": [
    "x = 10\n",
    "y = 15\n",
    "\n",
    "sum_result = x + y\n",
    "product_result = x * y\n",
    "\n",
    "(sum_result, product_result)"
   ]
  },
  {
   "cell_type": "code",
   "execution_count": 12,
   "id": "e48e8862-f54e-4f41-9476-9f357555f49d",
   "metadata": {},
   "outputs": [
    {
     "data": {
      "text/plain": [
       "3*z^2 + 2*z - 5"
      ]
     },
     "execution_count": 12,
     "metadata": {},
     "output_type": "execute_result"
    }
   ],
   "source": [
    "z = var('z')\n",
    "expression = 3*z^2 + 2*z - 5\n",
    "expression.simplify()"
   ]
  },
  {
   "cell_type": "code",
   "execution_count": 13,
   "id": "b380cf31-363f-4bf0-8a23-3d46b43e5b79",
   "metadata": {},
   "outputs": [
    {
     "data": {
      "text/plain": [
       "5*x"
      ]
     },
     "execution_count": 13,
     "metadata": {},
     "output_type": "execute_result"
    }
   ],
   "source": [
    "x = var('x')\n",
    "expression_to_simplify = 2*x^2 + 4*x - 2*x^2 + x\n",
    "simplified_expression = expression_to_simplify.simplify()\n",
    "simplified_expression"
   ]
  },
  {
   "cell_type": "code",
   "execution_count": 14,
   "id": "5e444a1d-068b-4477-bede-7448b5b80665",
   "metadata": {},
   "outputs": [
    {
     "data": {
      "text/plain": [
       "x^2 - x - 6"
      ]
     },
     "execution_count": 14,
     "metadata": {},
     "output_type": "execute_result"
    }
   ],
   "source": [
    "expanded_expression = expand((x + 2)*(x - 3))\n",
    "expanded_expression"
   ]
  },
  {
   "cell_type": "code",
   "execution_count": 15,
   "id": "7eee3071-c523-49bc-81ce-60529462832c",
   "metadata": {},
   "outputs": [
    {
     "data": {
      "text/plain": [
       "(x - 4)*(x - 5)"
      ]
     },
     "execution_count": 15,
     "metadata": {},
     "output_type": "execute_result"
    }
   ],
   "source": [
    "x = var('x')\n",
    "factor_result = factor(x^2 - 9*x + 20)\n",
    "factor_result"
   ]
  },
  {
   "cell_type": "code",
   "execution_count": 16,
   "id": "ed8b277c-4b83-4413-885f-0b82ba6340c6",
   "metadata": {},
   "outputs": [
    {
     "data": {
      "text/plain": [
       "[x == 3, x == 1]"
      ]
     },
     "execution_count": 16,
     "metadata": {},
     "output_type": "execute_result"
    }
   ],
   "source": [
    "solve(x^2 - 4*x + 3 == 0, x)"
   ]
  },
  {
   "cell_type": "code",
   "execution_count": 17,
   "id": "36e3e1d9-7056-440e-a444-87fbe51b0dc5",
   "metadata": {},
   "outputs": [
    {
     "data": {
      "image/png": "[encoded data removed]",
      "text/plain": [
       "Graphics object consisting of 1 graphics primitive"
      ]
     },
     "execution_count": 17,
     "metadata": {},
     "output_type": "execute_result"
    }
   ],
   "source": [
    "f(x) = x^2 - 4*x + 3\n",
    "plot(f, (x, -5, 5))"
   ]
  },
  {
   "cell_type": "code",
   "execution_count": 18,
   "id": "f6a5bf2a-2f2d-4125-94c0-816129d9f119",
   "metadata": {},
   "outputs": [
    {
     "data": {
      "text/plain": [
       "3*x^2 + 10*x - 2"
      ]
     },
     "execution_count": 18,
     "metadata": {},
     "output_type": "execute_result"
    }
   ],
   "source": [
    "f(x) = x^3 + 5*x^2 - 2*x + 7\n",
    "derivative_result = diff(f(x), x)\n",
    "derivative_result"
   ]
  },
  {
   "cell_type": "code",
   "execution_count": 19,
   "id": "e39299ba-14a8-477e-87de-cb7611d5c3e0",
   "metadata": {},
   "outputs": [
    {
     "data": {
      "text/plain": [
       "1/2*x^4 - 1/3*x^3 + 5*x"
      ]
     },
     "execution_count": 19,
     "metadata": {},
     "output_type": "execute_result"
    }
   ],
   "source": [
    "x = var('x')\n",
    "f(x) = 2*x^3 - x^2 + 5\n",
    "indefinite_integral = integral(f(x), x)\n",
    "indefinite_integral"
   ]
  },
  {
   "cell_type": "code",
   "execution_count": 20,
   "id": "93879e04-dda4-4b7f-94ad-ea0195b7c778",
   "metadata": {},
   "outputs": [
    {
     "data": {
      "text/plain": [
       "21"
      ]
     },
     "execution_count": 20,
     "metadata": {},
     "output_type": "execute_result"
    }
   ],
   "source": [
    "f(x) = x^2\n",
    "definite_integral = integral(f(x), x, 1, 4)\n",
    "definite_integral"
   ]
  },
  {
   "cell_type": "code",
   "execution_count": 21,
   "id": "b6335a28-5bae-4108-ba1c-bac2c7dd51d9",
   "metadata": {},
   "outputs": [
    {
     "data": {
      "text/plain": [
       "[1 2]\n",
       "[3 4]"
      ]
     },
     "execution_count": 21,
     "metadata": {},
     "output_type": "execute_result"
    }
   ],
   "source": [
    "A = Matrix([[1, 2], [3, 4]])\n",
    "A"
   ]
  },
  {
   "cell_type": "code",
   "execution_count": 22,
   "id": "647e7ee6-93b6-4aab-a0f4-5eec664f6520",
   "metadata": {},
   "outputs": [
    {
     "data": {
      "text/plain": [
       "(\n",
       "[1 3]    \n",
       "[2 4], -2\n",
       ")"
      ]
     },
     "execution_count": 22,
     "metadata": {},
     "output_type": "execute_result"
    }
   ],
   "source": [
    "transpose_A = A.transpose()\n",
    "determinant_A = A.det()\n",
    "\n",
    "transpose_A, determinant_A"
   ]
  },
  {
   "cell_type": "code",
   "execution_count": 23,
   "id": "1b312a7b-e999-41ec-bec6-c6af69c5107e",
   "metadata": {},
   "outputs": [
    {
     "data": {
      "text/plain": [
       "[-0.2360679774997897?, 4.236067977499789?]"
      ]
     },
     "execution_count": 23,
     "metadata": {},
     "output_type": "execute_result"
    }
   ],
   "source": [
    "A = Matrix([[1, 2], [2, 3]])\n",
    "eigenvalues = A.eigenvalues()\n",
    "eigenvalues"
   ]
  },
  {
   "cell_type": "code",
   "execution_count": 24,
   "id": "8e89001b-27d8-4fc7-99fc-ff8313115baa",
   "metadata": {},
   "outputs": [
    {
     "data": {
      "text/plain": [
       "[[x == 1, y == 2]]"
      ]
     },
     "execution_count": 24,
     "metadata": {},
     "output_type": "execute_result"
    }
   ],
   "source": [
    "var('x y')\n",
    "solve([x + y == 3, 2*x - y == 0], x, y)"
   ]
  },
  {
   "cell_type": "code",
   "execution_count": 25,
   "id": "62d77061-3f56-4db2-bc8e-e2ec05ea2466",
   "metadata": {},
   "outputs": [
    {
     "data": {
      "text/plain": [
       "'Рівне нулю'"
      ]
     },
     "execution_count": 25,
     "metadata": {},
     "output_type": "execute_result"
    }
   ],
   "source": [
    "n = var('n')\n",
    "if n > 0:\n",
    "    result = \"Додатне\"\n",
    "elif n < 0:\n",
    "    result = \"Від'ємне\"\n",
    "else:\n",
    "    result = \"Рівне нулю\"\n",
    "\n",
    "result"
   ]
  },
  {
   "cell_type": "code",
   "execution_count": 26,
   "id": "7744734b-5eca-46be-8935-345229f5ac01",
   "metadata": {},
   "outputs": [
    {
     "name": "stdout",
     "output_type": "stream",
     "text": [
      "1\n",
      "2\n",
      "3\n",
      "4\n",
      "5\n",
      "6\n",
      "7\n",
      "8\n",
      "9\n",
      "10\n"
     ]
    }
   ],
   "source": [
    "for i in range(1, 11):\n",
    "    print(i)"
   ]
  },
  {
   "cell_type": "code",
   "execution_count": 27,
   "id": "31e67615-e38f-408d-b15f-9e6f1a8e6f5d",
   "metadata": {},
   "outputs": [
    {
     "data": {
      "text/plain": [
       "66"
      ]
     },
     "execution_count": 27,
     "metadata": {},
     "output_type": "execute_result"
    }
   ],
   "source": [
    "x = var('x')\n",
    "f(x) = 3*x^2 - 2*x + 1\n",
    "f(5)"
   ]
  },
  {
   "cell_type": "code",
   "execution_count": 28,
   "id": "5ed98f31-5b5b-4fc3-bc11-e03e924af25f",
   "metadata": {},
   "outputs": [
    {
     "data": {
      "image/png": "[encoded data removed]",
      "text/plain": [
       "Graphics object consisting of 2 graphics primitives"
      ]
     },
     "execution_count": 28,
     "metadata": {},
     "output_type": "execute_result"
    }
   ],
   "source": [
    "f(x) = x^2\n",
    "g(x) = -x^2 + 5\n",
    "plot(f(x), (x, -3, 3)) + plot(g(x), (x, -3, 3))"
   ]
  },
  {
   "cell_type": "code",
   "execution_count": null,
   "id": "d6f374d0-bc9e-4ce6-82a6-bba7568cd83c",
   "metadata": {},
   "outputs": [],
   "source": []
  }
 ],
 "metadata": {
  "kernelspec": {
   "display_name": "SageMath 10.4",
   "language": "sage",
   "name": "sagemath-10.4"
  },
  "language_info": {
   "codemirror_mode": {
    "name": "ipython",
    "version": 3
   },
   "file_extension": ".py",
   "mimetype": "text/x-python",
   "name": "python",
   "nbconvert_exporter": "python",
   "pygments_lexer": "ipython3",
   "version": "3.12.4"
  }
 },
 "nbformat": 4,
 "nbformat_minor": 5
}
