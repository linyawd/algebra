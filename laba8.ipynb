{
 "cells": [
  {
   "cell_type": "code",
   "execution_count": 4,
   "id": "adfe8127-4c1a-4427-a6cd-af5563ae80db",
   "metadata": {},
   "outputs": [
    {
     "name": "stdout",
     "output_type": "stream",
     "text": [
      "Кількість різних розфарбувань кубика Рубіка 2x2x2, використовуючи 10 кольорів: 12502500\n"
     ]
    }
   ],
   "source": [
    "\n",
    "from sage.groups.perm_gps.permgroup import PermutationGroup\n",
    "\n",
    "G = SymmetricGroup(8)\n",
    "\n",
    "g1 = G('(1,2,4,3)(5,6,8,7)')\n",
    "g2 = G('(1,3,4,2)(5,7,8,6)')\n",
    "g3 = G('(1,4)(2,3)(5,8)(6,7)')\n",
    "g4 = G('(1,2)(3,4)(5,6)(7,8)')\n",
    "g5 = G('(1,3)(2,4)(5,7)(6,8)')\n",
    "g6 = G('(1,4)(2,3)(5,8)(6,7)')\n",
    "\n",
    "H = G.subgroup([g1, g2, g3, g4, g5, g6])\n",
    "\n",
    "# Визначаємо кількість кольорів\n",
    "num_colors = 10\n",
    "\n",
    "def fixed_points(perm):\n",
    "    return len([i for i in range(1, 9) if perm(i) == i])\n",
    "\n",
    "\n",
    "num_paintings = sum(num_colors ** fixed_points(g) for g in H) // H.order()\n",
    "\n",
    "print(f\"Кількість різних розфарбувань кубика Рубіка 2x2x2, використовуючи {num_colors} кольорів: {num_paintings}\")"
   ]
  },
  {
   "cell_type": "code",
   "execution_count": null,
   "id": "356b6310-1eb0-4ccd-800a-399ae93514b6",
   "metadata": {},
   "outputs": [],
   "source": []
  }
 ],
 "metadata": {
  "kernelspec": {
   "display_name": "SageMath 10.4",
   "language": "sage",
   "name": "sagemath-10.4"
  },
  "language_info": {
   "codemirror_mode": {
    "name": "ipython",
    "version": 3
   },
   "file_extension": ".py",
   "mimetype": "text/x-python",
   "name": "python",
   "nbconvert_exporter": "python",
   "pygments_lexer": "ipython3",
   "version": "3.12.4"
  }
 },
 "nbformat": 4,
 "nbformat_minor": 5
}
