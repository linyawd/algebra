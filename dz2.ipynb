{
 "cells": [
  {
   "cell_type": "code",
   "execution_count": 2,
   "id": "76e46425-04f7-46a5-a3db-ecb1ed5c57c5",
   "metadata": {},
   "outputs": [
    {
     "name": "stdout",
     "output_type": "stream",
     "text": [
      "[1, 1, 1, 1]\n",
      "[1, 1, 1, 2]\n",
      "[1, 1, 2, 1]\n",
      "[1, 1, 2, 2]\n",
      "[1, 2, 1, 1]\n",
      "[1, 2, 1, 2]\n",
      "[1, 2, 2, 1]\n",
      "[1, 2, 2, 2]\n",
      "[2, 1, 1, 1]\n",
      "[2, 1, 1, 2]\n",
      "[2, 1, 2, 1]\n",
      "[2, 1, 2, 2]\n",
      "[2, 2, 1, 1]\n",
      "[2, 2, 1, 2]\n",
      "[2, 2, 2, 1]\n",
      "[2, 2, 2, 2]\n"
     ]
    }
   ],
   "source": [
    "\n",
    "import itertools\n",
    "\n",
    "def all_actions(space):\n",
    "    all_actions_list = []\n",
    "    for f in itertools.product(space, repeat=len(space)**2):\n",
    "        all_actions_list.append(list(f))\n",
    "    return all_actions_list\n",
    "\n",
    "needed_set = [1, 2]\n",
    "for f in all_actions(needed_set):\n",
    "    print(f) "
   ]
  },
  {
   "cell_type": "code",
   "execution_count": 3,
   "id": "a70f0113-3104-4a28-b7d3-0604ece121ce",
   "metadata": {},
   "outputs": [
    {
     "name": "stdout",
     "output_type": "stream",
     "text": [
      "Дія не асоціативна, контрприклад: (2, 1, 2)\n",
      "Дія не асоціативна, контрприклад: (2, 1, 2)\n",
      "Дія не асоціативна, контрприклад: (1, 1, 2)\n",
      "Дія не асоціативна, контрприклад: (1, 1, 1)\n",
      "Дія не асоціативна, контрприклад: (1, 1, 1)\n",
      "Дія не асоціативна, контрприклад: (1, 1, 1)\n",
      "Дія не асоціативна, контрприклад: (1, 1, 1)\n",
      "Дія не асоціативна, контрприклад: (1, 1, 2)\n",
      "К-ть асоціативних дій для 2-елементної множини: 8\n"
     ]
    }
   ],
   "source": [
    "def is_associative(space, action):\n",
    "    def operation(a, b):\n",
    "        index = space.index(a) * len(space) + space.index(b)\n",
    "        return action[index]\n",
    "\n",
    "    for a in space:\n",
    "        for b in space:\n",
    "            for c in space:\n",
    "                if operation(operation(a, b), c) != operation(a, operation(b, c)):\n",
    "                    return False, (a, b, c)\n",
    "    return True, None\n",
    "\n",
    "needed_set = [1, 2]\n",
    "associative_actions = []\n",
    "\n",
    "for f in all_actions(needed_set):\n",
    "    result, counter = is_associative(needed_set, f)\n",
    "    if not result:\n",
    "        print(\"Дія не асоціативна, контрприклад:\", counter)\n",
    "    else:\n",
    "        associative_actions.append(f)\n",
    "\n",
    "print(f'К-ть асоціативних дій для {len(needed_set)}-елементної множини:', len(associative_actions))"
   ]
  },
  {
   "cell_type": "code",
   "execution_count": 7,
   "id": "9686bc04-ea06-4b10-aded-64ae3bf45478",
   "metadata": {},
   "outputs": [],
   "source": [
    "def is_isomorphic(space1, action1, space2, action2):\n",
    "    \n",
    "    for perm in itertools.permutations(space1):\n",
    "        perm_map = {space1[i]: perm[i] for i in range(len(space1))}\n",
    "\n",
    "        \n",
    "        is_iso = True\n",
    "        for a in space1:\n",
    "            for b in space1:\n",
    "                index_a_b = space1.index(a) * len(space1) + space1.index(b)\n",
    "                index_perm_a_b = space2.index(perm_map[a]) * len(space2) + space2.index(perm_map[b])\n",
    "\n",
    "                if action1[index_a_b] != action2[index_perm_a_b]:\n",
    "                    is_iso = False\n",
    "                    break\n",
    "            if not is_iso:\n",
    "                break\n",
    "        \n",
    "        if is_iso:\n",
    "            return True\n",
    "\n",
    "    return False\n",
    "\n"
   ]
  },
  {
   "cell_type": "code",
   "execution_count": null,
   "id": "b7b57bb5-5f60-4621-b48e-a608c44db7ca",
   "metadata": {},
   "outputs": [],
   "source": []
  }
 ],
 "metadata": {
  "kernelspec": {
   "display_name": "SageMath 10.4",
   "language": "sage",
   "name": "sagemath-10.4"
  },
  "language_info": {
   "codemirror_mode": {
    "name": "ipython",
    "version": 3
   },
   "file_extension": ".py",
   "mimetype": "text/x-python",
   "name": "python",
   "nbconvert_exporter": "python",
   "pygments_lexer": "ipython3",
   "version": "3.12.4"
  }
 },
 "nbformat": 4,
 "nbformat_minor": 5
}
