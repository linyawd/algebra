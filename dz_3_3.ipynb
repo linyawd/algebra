{
 "cells": [
  {
   "cell_type": "code",
   "execution_count": 1,
   "id": "77c95793-da02-4075-89c7-c175202c89df",
   "metadata": {},
   "outputs": [
    {
     "name": "stdout",
     "output_type": "stream",
     "text": [
      "У групі S_5 існує елемент порядку 6.\n"
     ]
    }
   ],
   "source": [
    "def has_element_of_order(n, k):\n",
    "    S_n = SymmetricGroup(n)\n",
    "    for g in S_n:\n",
    "        if g.order() == k:\n",
    "            return True\n",
    "    return False\n",
    "\n",
    "\n",
    "n = 5  \n",
    "k = 6 \n",
    "\n",
    "if has_element_of_order(n, k):\n",
    "    print(f\"У групі S_{n} існує елемент порядку {k}.\")\n",
    "else:\n",
    "    print(f\"У групі S_{n} немає елементу порядку {k}.\")"
   ]
  },
  {
   "cell_type": "code",
   "execution_count": null,
   "id": "3dceee0e-d9fe-4ca5-97a1-0468eca6a8fc",
   "metadata": {},
   "outputs": [],
   "source": []
  }
 ],
 "metadata": {
  "kernelspec": {
   "display_name": "SageMath 10.4",
   "language": "sage",
   "name": "sagemath-10.4"
  },
  "language_info": {
   "codemirror_mode": {
    "name": "ipython",
    "version": 3
   },
   "file_extension": ".py",
   "mimetype": "text/x-python",
   "name": "python",
   "nbconvert_exporter": "python",
   "pygments_lexer": "ipython3",
   "version": "3.12.4"
  }
 },
 "nbformat": 4,
 "nbformat_minor": 5
}
